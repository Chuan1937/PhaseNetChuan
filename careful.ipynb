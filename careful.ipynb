{
 "cells": [
  {
   "cell_type": "code",
   "execution_count": 1,
   "metadata": {},
   "outputs": [],
   "source": [
    "import tensorflow as tf"
   ]
  },
  {
   "cell_type": "code",
   "execution_count": 2,
   "metadata": {},
   "outputs": [],
   "source": [
    "def crop_and_concat(net1, net2):\n",
    "    # 计算net1和net2的通道数\n",
    "    chn1 = net1.get_shape().as_list()[-1]\n",
    "    chn2 = net2.get_shape().as_list()[-1]\n",
    "    net1_shape = tf.shape(net1)\n",
    "    net2_shape = tf.shape(net2)\n",
    "\n",
    "    # 计算裁剪的偏移量，并对net2进行裁剪\n",
    "    offsets = [0, (net2_shape[1] - net1_shape[1]) // 2, (net2_shape[2] - net1_shape[2]) // 2, 0]\n",
    "    \n",
    "    size = [-1, net1_shape[1], net1_shape[2], -1]\n",
    "    net2_resize = tf.slice(net2, offsets, size)\n",
    "    #slice(object,start,size)\n",
    "\n",
    "    # 将裁剪后的net2和net1在通道维度上拼接\n",
    "    out = tf.concat([net1, net2_resize], 3)\n",
    "    out.set_shape([None, None, None, chn1 + chn2])\n",
    "\n",
    "    return out\n",
    "\n"
   ]
  },
  {
   "cell_type": "code",
   "execution_count": 22,
   "metadata": {},
   "outputs": [
    {
     "name": "stdout",
     "output_type": "stream",
     "text": [
      "(10, 128, 128, 6)\n",
      "(10, 128, 128, 6)\n"
     ]
    }
   ],
   "source": [
    "#定义两个net进行测试\n",
    "net1 = tf.random.normal([10, 128, 128, 3])\n",
    "net2 = tf.random.normal([10, 256, 256, 3])\n",
    "\n",
    "\n",
    "# 计算net1和net2的通道数\n",
    "chn1 = net1.get_shape().as_list()[-1]\n",
    "chn2 = net2.get_shape().as_list()[-1]\n",
    "net1_shape = tf.shape(net1)\n",
    "net2_shape = tf.shape(net2)\n",
    "\n",
    "# 计算裁剪的偏移量，并对net2进行裁剪\n",
    "offsets = [0, (net2_shape[1] - net1_shape[1]) // 2, (net2_shape[2] - net1_shape[2]) // 2, 0]\n",
    "\n",
    "size = [-1, net1_shape[1], net1_shape[2], -1]\n",
    "net2_resize = tf.slice(net2, offsets, size)\n",
    "#slice(object,start,size)\n",
    "\n",
    "\n",
    "# 将裁剪后的net2和net1在通道维度上拼接,channel维度上拼接\n",
    "out = tf.concat([net1, net2_resize], 3)\n",
    "print(out.shape)\n",
    "out.set_shape([None, None, None, chn1 + chn2])\n",
    "print(out.shape)\n"
   ]
  },
  {
   "cell_type": "code",
   "execution_count": 6,
   "metadata": {},
   "outputs": [
    {
     "name": "stdout",
     "output_type": "stream",
     "text": [
      "Conv2D output shape: \t (1, 28, 28, 6)\n",
      "AveragePooling2D output shape: \t (1, 14, 14, 6)\n",
      "Conv2D output shape: \t (1, 10, 10, 16)\n",
      "AveragePooling2D output shape: \t (1, 5, 5, 16)\n",
      "Flatten output shape: \t (1, 400)\n",
      "Dense output shape: \t (1, 120)\n",
      "Dense output shape: \t (1, 84)\n",
      "Dense output shape: \t (1, 10)\n"
     ]
    }
   ],
   "source": [
    "import tensorflow as tf\n",
    "\n",
    "def net():\n",
    "    return tf.keras.models.Sequential([\n",
    "        tf.keras.layers.Conv2D(filters=6, kernel_size=5, activation='sigmoid',\n",
    "                               padding='same'),\n",
    "        tf.keras.layers.AvgPool2D(pool_size=2, strides=2),\n",
    "        tf.keras.layers.Conv2D(filters=16, kernel_size=5,\n",
    "                               activation='sigmoid'),\n",
    "        tf.keras.layers.AvgPool2D(pool_size=2, strides=2),\n",
    "        tf.keras.layers.Flatten(),\n",
    "        tf.keras.layers.Dense(120, activation='sigmoid'),\n",
    "        tf.keras.layers.Dense(84, activation='sigmoid'),\n",
    "        tf.keras.layers.Dense(10)])\n",
    "\n",
    "X = tf.random.uniform((1, 28, 28, 1))\n",
    "for layer in net().layers:\n",
    "    X = layer(X)\n",
    "    print(layer.__class__.__name__, 'output shape: \\t', X.shape)"
   ]
  },
  {
   "cell_type": "code",
   "execution_count": 22,
   "metadata": {},
   "outputs": [
    {
     "data": {
      "text/plain": [
       "NpzFile 'D:\\\\python\\\\PhaseNetChuan\\\\test_data\\\\npz\\\\BG.ACR..DP.0215954.npz' with keys: data, dt, p_idx, s_idx, snr..."
      ]
     },
     "execution_count": 22,
     "metadata": {},
     "output_type": "execute_result"
    }
   ],
   "source": [
    "import numpy as np\n",
    "# 加载 .npz 文件\n",
    "data = np.load('D:\\\\python\\\\PhaseNetChuan\\\\test_data\\\\npz\\\\BG.ACR..DP.0215954.npz')\n",
    "data"
   ]
  },
  {
   "cell_type": "code",
   "execution_count": 32,
   "metadata": {},
   "outputs": [
    {
     "data": {
      "text/plain": [
       "NpzFile 'D:\\\\python\\\\PhaseNetChuan\\\\dataset\\\\waveform_train\\\\BG_ACR_2012082505145960.npz' with keys: data, itp, its, channels"
      ]
     },
     "execution_count": 32,
     "metadata": {},
     "output_type": "execute_result"
    }
   ],
   "source": [
    "dt=np.load(\"D:\\python\\PhaseNetChuan\\dataset\\waveform_train\\BG_ACR_2012082505145960.npz\")\n",
    "dt"
   ]
  },
  {
   "cell_type": "code",
   "execution_count": null,
   "metadata": {},
   "outputs": [],
   "source": []
  }
 ],
 "metadata": {
  "kernelspec": {
   "display_name": "phase",
   "language": "python",
   "name": "python3"
  },
  "language_info": {
   "codemirror_mode": {
    "name": "ipython",
    "version": 3
   },
   "file_extension": ".py",
   "mimetype": "text/x-python",
   "name": "python",
   "nbconvert_exporter": "python",
   "pygments_lexer": "ipython3",
   "version": "3.9.20"
  }
 },
 "nbformat": 4,
 "nbformat_minor": 2
}
